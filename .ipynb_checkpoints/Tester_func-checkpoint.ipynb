{
 "cells": [
  {
   "cell_type": "code",
   "execution_count": 1,
   "id": "7d23f4f3-90ed-49ab-bcb1-e824ae3f8f33",
   "metadata": {},
   "outputs": [
    {
     "name": "stdout",
     "output_type": "stream",
     "text": [
      "Unsupported file format: .ipynb_checkpoints\n",
      "Loaded 1 documents.\n"
     ]
    }
   ],
   "source": [
    "from langchain.document_loaders import TextLoader, PyPDFLoader\n",
    "import os\n",
    "\n",
    "# Folder tempat dokumen berada\n",
    "DATA_FOLDER = \"data/\"\n",
    "\n",
    "# Fungsi untuk membaca dokumen\n",
    "def load_documents(folder_path):\n",
    "    documents = []\n",
    "    for file_name in os.listdir(folder_path):\n",
    "        file_path = os.path.join(folder_path, file_name)\n",
    "        if file_name.endswith(\".txt\"):\n",
    "            loader = TextLoader(file_path)\n",
    "        elif file_name.endswith(\".pdf\"):\n",
    "            loader = PyPDFLoader(file_path)\n",
    "        else:\n",
    "            print(f\"Unsupported file format: {file_name}\")\n",
    "            continue\n",
    "        documents.extend(loader.load())\n",
    "    return documents\n",
    "\n",
    "# Test membaca dokumen\n",
    "docs = load_documents(DATA_FOLDER)\n",
    "print(f\"Loaded {len(docs)} documents.\")\n"
   ]
  },
  {
   "cell_type": "code",
   "execution_count": 2,
   "id": "1769d05c-7675-4b24-b86d-b10715af2a0a",
   "metadata": {},
   "outputs": [
    {
     "name": "stdout",
     "output_type": "stream",
     "text": [
      "Generated 1 chunks.\n"
     ]
    }
   ],
   "source": [
    "from langchain.text_splitter import CharacterTextSplitter\n",
    "\n",
    "# Inisialisasi text splitter\n",
    "text_splitter = CharacterTextSplitter(chunk_size=500, chunk_overlap=50)\n",
    "\n",
    "# Potong dokumen menjadi chunk\n",
    "chunked_docs = []\n",
    "for doc in docs:\n",
    "    chunks = text_splitter.split_text(doc.page_content)\n",
    "    chunked_docs.extend(chunks)\n",
    "\n",
    "print(f\"Generated {len(chunked_docs)} chunks.\")"
   ]
  },
  {
   "cell_type": "code",
   "execution_count": 29,
   "id": "19c00138-5203-413e-964d-5fbf582a3a81",
   "metadata": {},
   "outputs": [
    {
     "name": "stdout",
     "output_type": "stream",
     "text": [
      "Generated embeddings for 1 chunks.\n"
     ]
    }
   ],
   "source": [
    "from langchain.embeddings import OllamaEmbeddings\n",
    "# from langchain_ollama import OllamaEmbeddings\n",
    "\n",
    "# Inisialisasi model embedding\n",
    "embedding_model = OllamaEmbeddings(model=\"nomic-embed-text\")\n",
    "# embedding_model = OllamaEmbeddings(model=\"all-MiniLM-L6-v2\")\n",
    "\n",
    "# Buat embedding\n",
    "embeddings = [embedding_model.embed_query(chunk) for chunk in chunked_docs]\n",
    "\n",
    "print(f\"Generated embeddings for {len(embeddings)} chunks.\")"
   ]
  },
  {
   "cell_type": "code",
   "execution_count": 4,
   "id": "6702c3bf-77c2-48c8-8f80-6a9099628202",
   "metadata": {},
   "outputs": [
    {
     "name": "stdout",
     "output_type": "stream",
     "text": [
      "Connected to Milvus server successfully!\n"
     ]
    }
   ],
   "source": [
    "from pymilvus import connections\n",
    "\n",
    "# Connect to Milvus server\n",
    "connections.connect(host=\"192.168.30.222\", port=\"19530\")\n",
    "\n",
    "# Verify connection\n",
    "print(\"Connected to Milvus server successfully!\")\n",
    "\n",
    "# from pymilvus import connections    \n",
    "\n",
    "# connections.connect(\n",
    "#     uri=\"http://192.168.30.222:19530\", \n",
    "#     token=\"root:root123\"\n",
    "# )  \n",
    "\n",
    "# print(\"test\")"
   ]
  },
  {
   "cell_type": "code",
   "execution_count": 44,
   "id": "2c26b573-5f15-4156-ad02-7c429d39b2ef",
   "metadata": {},
   "outputs": [
    {
     "name": "stdout",
     "output_type": "stream",
     "text": [
      "[]\n"
     ]
    }
   ],
   "source": [
    "from pymilvus import utility\n",
    "print(utility.list_collections())\n",
    "utility.drop_collection('chatbot_embeddings')\n"
   ]
  },
  {
   "cell_type": "code",
   "execution_count": null,
   "id": "823bf8f5-b9d2-4645-ad39-eb58cbe683df",
   "metadata": {},
   "outputs": [],
   "source": []
  },
  {
   "cell_type": "markdown",
   "id": "78bf3dd4-4be4-4670-a5aa-258fc94cad86",
   "metadata": {},
   "source": [
    "# BLM SESUAI"
   ]
  },
  {
   "cell_type": "code",
   "execution_count": 45,
   "id": "a93cd473-7f00-4be3-9d32-c975974200e7",
   "metadata": {},
   "outputs": [
    {
     "name": "stdout",
     "output_type": "stream",
     "text": [
      "Embedding shape: 1 embeddings with 768 dimensions\n"
     ]
    }
   ],
   "source": [
    "# Memeriksa dimensi dari embeddings\n",
    "print(f\"Embedding shape: {len(embeddings)} embeddings with {len(embeddings[0])} dimensions\")"
   ]
  },
  {
   "cell_type": "code",
   "execution_count": 46,
   "id": "ee32bf85-1f33-402d-99d0-b8248b2882c2",
   "metadata": {},
   "outputs": [
    {
     "name": "stdout",
     "output_type": "stream",
     "text": [
      "Collection 'chatbot_embeddings' created!\n"
     ]
    }
   ],
   "source": [
    "from pymilvus import connections, FieldSchema, CollectionSchema, DataType, Collection\n",
    "import numpy as np\n",
    "\n",
    "# Koneksi ke Milvus\n",
    "# connections.connect(host=\"localhost\", port=\"19530\")\n",
    "\n",
    "# Definisi schema untuk koleksi (Milvus)\n",
    "fields = [\n",
    "    FieldSchema(name=\"id\", dtype=DataType.INT64, is_primary=True, auto_id=True),\n",
    "    FieldSchema(name=\"embedding\", dtype=DataType.FLOAT_VECTOR, dim=768),  # Dimensi embedding sesuai model\n",
    "    # FieldSchema(name=\"metadata\", dtype=DataType.VARCHAR, max_length=500),  # Misal metadata dalam bentuk teks\n",
    "]\n",
    "\n",
    "schema = CollectionSchema(fields, description=\"Embedding storage for chatbot\")\n",
    "\n",
    "# Buat koleksi di Milvus\n",
    "collection_name = \"chatbot_embeddings\"\n",
    "collection = Collection(name=collection_name, schema=schema)\n",
    "\n",
    "print(f\"Collection '{collection_name}' created!\")\n"
   ]
  },
  {
   "cell_type": "code",
   "execution_count": 59,
   "id": "9b685354-e9ed-4408-abd6-400c68aa622c",
   "metadata": {},
   "outputs": [
    {
     "name": "stdout",
     "output_type": "stream",
     "text": [
      "{'auto_id': True, 'description': 'Embedding storage for chatbot', 'fields': [{'name': 'id', 'description': '', 'type': <DataType.INT64: 5>, 'is_primary': True, 'auto_id': True}, {'name': 'embedding', 'description': '', 'type': <DataType.FLOAT_VECTOR: 101>, 'params': {'dim': 768}}], 'enable_dynamic_field': False}\n"
     ]
    }
   ],
   "source": [
    "from pymilvus import Collection\n",
    "collection = Collection(\"chatbot_embeddings\")\n",
    "schema = collection.schema\n",
    "print(schema)"
   ]
  },
  {
   "cell_type": "code",
   "execution_count": 60,
   "id": "b9ffac67-bd10-4763-aae9-69aea4f02813",
   "metadata": {},
   "outputs": [
    {
     "name": "stdout",
     "output_type": "stream",
     "text": [
      "Index has been created.\n",
      "Collection and index are loaded into memory.\n"
     ]
    }
   ],
   "source": [
    "# Buat indeks\n",
    "collection.create_index(\n",
    "    field_name=\"embedding\",\n",
    "    index_params={\"index_type\": \"IVF_FLAT\", \"metric_type\": \"L2\", \"params\": {\"nlist\": 128}}\n",
    ")\n",
    "print(\"Index has been created.\")\n",
    "\n",
    "# Muat koleksi dan indeks ke memori\n",
    "collection.load()\n",
    "print(\"Collection and index are loaded into memory.\")"
   ]
  },
  {
   "cell_type": "code",
   "execution_count": 52,
   "id": "4d390e6e-94ca-4530-bb05-9eb09c6f31dd",
   "metadata": {},
   "outputs": [
    {
     "name": "stdout",
     "output_type": "stream",
     "text": [
      "Inserted 1 embeddings into Milvus.\n"
     ]
    }
   ],
   "source": [
    "# # Masukkan data ke Milvus\n",
    "# data_to_insert = [\n",
    "#     embeddings  # Embedding vektor\n",
    "#     # [\"Document chunk metadata\"] * len(embeddings)  # Metadata dummy untuk testing\n",
    "# ]\n",
    "\n",
    "# # Insert data\n",
    "# collection.insert(data_to_insert)\n",
    "# Misalkan 'embeddings' adalah list yang berisi embedding untuk setiap chunk dokumen\n",
    "# Jika embeddings adalah hasil dari model, pastikan bentuk data adalah list of list dengan float values.\n",
    "\n",
    "ids = list(range(len(embeddings)))  # Membuat ID untuk setiap embedding\n",
    "\n",
    "import numpy as np\n",
    "\n",
    "# Konversi embeddings menjadi tipe float\n",
    "# embeddings = np.array(embeddings, dtype=np.float32).tolist()  # Gunakan np.float32 untuk memastikan tipe data yang tepat\n",
    "\n",
    "# Debugging tipe data\n",
    "# print(f\"Data type of first embedding: {type(embeddings[0][5])}\")  # Harus menunjukkan <class 'float'>\n",
    "# Periksa tipe data pada setiap elemen dalam embeddings\n",
    "for i, emb in enumerate(embeddings):\n",
    "    # print(emb)\n",
    "    if not all(isinstance(val, float) for val in emb):\n",
    "        print(f\"Embedding {i} contains non-float values.\")\n",
    "        break\n",
    "\n",
    "# Jika semua sudah benar, lanjutkan insert\n",
    "collection.insert([embeddings])\n",
    "print(f\"Inserted {len(embeddings)} embeddings into the collection.\")\n",
    "\n",
    "collection.flush()\n",
    "\n",
    "print(f\"Inserted {len(embeddings)} embeddings into Milvus.\")\n"
   ]
  },
  {
   "cell_type": "code",
   "execution_count": null,
   "id": "0de87eb6-e56f-4ea4-aa81-9bcf491240e7",
   "metadata": {},
   "outputs": [],
   "source": [
    "# Membuat indeks untuk field embedding\n",
    "collection.create_index(\n",
    "    field_name=\"embedding\",\n",
    "    index_params={\"index_type\": \"IVF_FLAT\", \"metric_type\": \"L2\", \"params\": {\"nlist\": 128}}\n",
    ")\n",
    "print(\"Index has been created.\")\n"
   ]
  },
  {
   "cell_type": "code",
   "execution_count": 53,
   "id": "7d5ce9a9-31f4-4bcd-bd6a-f416dbf8acaa",
   "metadata": {},
   "outputs": [
    {
     "name": "stdout",
     "output_type": "stream",
     "text": [
      "Collection and index are loaded into memory.\n"
     ]
    }
   ],
   "source": [
    "# Memuat indeks\n",
    "collection.load()\n",
    "print(\"Collection and index are loaded into memory.\")"
   ]
  },
  {
   "cell_type": "code",
   "execution_count": 54,
   "id": "92799ece-94f7-458d-8a34-f2c6dc9b8947",
   "metadata": {},
   "outputs": [],
   "source": [
    "search_vector = embeddings[0]  # Contoh menggunakan embedding pertama\n",
    "results = collection.search(\n",
    "    data=[search_vector],\n",
    "    anns_field=\"embedding\",\n",
    "    param={\"metric_type\": \"L2\", \"params\": {\"nprobe\": 10}},\n",
    "    limit=5,\n",
    ")"
   ]
  },
  {
   "cell_type": "code",
   "execution_count": 55,
   "id": "8b6fca8e-b0e4-4eaa-97de-b7a67181bf16",
   "metadata": {},
   "outputs": [
    {
     "name": "stdout",
     "output_type": "stream",
     "text": [
      "Match ID: 454238142078124760, Distance: 0.0\n",
      "Match ID: 454238142078124762, Distance: 0.0\n"
     ]
    }
   ],
   "source": [
    "from pymilvus import utility\n",
    "\n",
    "# # Query\n",
    "search_vector = embeddings[0]  # Contoh menggunakan embedding pertama\n",
    "results = collection.search(\n",
    "    data=[search_vector],\n",
    "    anns_field=\"embedding\",\n",
    "    param={\"metric_type\": \"L2\", \"params\": {\"nprobe\": 10}},\n",
    "    limit=5,\n",
    ")\n",
    "\n",
    "# # Tampilkan hasil pencarian\n",
    "if results:\n",
    "    for result in results[0]:\n",
    "        print(f\"Match ID: {result.id}, Distance: {result.distance}\")\n",
    "else:\n",
    "    print(\"No matching results found.\")\n",
    "\n"
   ]
  },
  {
   "cell_type": "code",
   "execution_count": 20,
   "id": "57a87a7c-86c3-4d9f-b65a-36e04e52f473",
   "metadata": {},
   "outputs": [],
   "source": [
    "# embeddings[0]"
   ]
  },
  {
   "cell_type": "code",
   "execution_count": 56,
   "id": "80af3a69-ee53-4e04-8ad6-2c417de2a29a",
   "metadata": {},
   "outputs": [
    {
     "name": "stdout",
     "output_type": "stream",
     "text": [
      "['chatbot_embeddings']\n",
      "{'auto_id': True, 'description': 'Embedding storage for chatbot', 'fields': [{'name': 'id', 'description': '', 'type': <DataType.INT64: 5>, 'is_primary': True, 'auto_id': True}, {'name': 'embedding', 'description': '', 'type': <DataType.FLOAT_VECTOR: 101>, 'params': {'dim': 768}}], 'enable_dynamic_field': False}\n"
     ]
    }
   ],
   "source": [
    "from pymilvus import Collection\n",
    "from pymilvus import utility\n",
    "print(utility.list_collections())\n",
    "\n",
    "# Load koleksi\n",
    "collection = Collection(name=\"chatbot_embeddings\")\n",
    "\n",
    "# Periksa schema koleksi\n",
    "print(collection.schema)\n"
   ]
  },
  {
   "cell_type": "code",
   "execution_count": null,
   "id": "330505f6-0886-4b8d-a362-f3888c2faf0d",
   "metadata": {},
   "outputs": [],
   "source": []
  },
  {
   "cell_type": "code",
   "execution_count": 57,
   "id": "fe8001c0-4c62-420b-be93-33b38f6349b3",
   "metadata": {},
   "outputs": [
    {
     "name": "stderr",
     "output_type": "stream",
     "text": [
      "RPC error: [create_index], <MilvusException: (code=1, message=cannot create index on non-existed field: vector)>, <Time:{'RPC start': '2024-11-28 16:27:35.267787', 'RPC error': '2024-11-28 16:27:35.275781'}>\n",
      "RPC error: [create_index], <MilvusException: (code=1, message=cannot create index on non-existed field: vector)>, <Time:{'RPC start': '2024-11-28 16:27:35.277677', 'RPC error': '2024-11-28 16:27:35.287723'}>\n",
      "Failed to create an index on collection: chatbot_embeddings\n"
     ]
    },
    {
     "name": "stdout",
     "output_type": "stream",
     "text": [
      "Connected to Milvus collection: chatbot_embeddings\n"
     ]
    },
    {
     "ename": "MilvusException",
     "evalue": "<MilvusException: (code=1, message=cannot create index on non-existed field: vector)>",
     "output_type": "error",
     "traceback": [
      "\u001b[1;31m---------------------------------------------------------------------------\u001b[0m",
      "\u001b[1;31mMilvusException\u001b[0m                           Traceback (most recent call last)",
      "    \u001b[1;31m[... skipping hidden 1 frame]\u001b[0m\n",
      "Cell \u001b[1;32mIn[57], line 13\u001b[0m\n\u001b[0;32m     12\u001b[0m \u001b[38;5;66;03m# Inisialisasi vector store menggunakan koleksi yang sudah ada\u001b[39;00m\n\u001b[1;32m---> 13\u001b[0m vector_store \u001b[38;5;241m=\u001b[39m \u001b[43mMilvus\u001b[49m\u001b[43m(\u001b[49m\n\u001b[0;32m     14\u001b[0m \u001b[43m    \u001b[49m\u001b[43membedding_function\u001b[49m\u001b[38;5;241;43m=\u001b[39;49m\u001b[38;5;28;43;01mNone\u001b[39;49;00m\u001b[43m,\u001b[49m\u001b[43m  \u001b[49m\u001b[38;5;66;43;03m# Tidak diperlukan karena sudah ada embedding\u001b[39;49;00m\n\u001b[0;32m     15\u001b[0m \u001b[43m    \u001b[49m\u001b[43mcollection_name\u001b[49m\u001b[38;5;241;43m=\u001b[39;49m\u001b[43mcollection_name\u001b[49m\u001b[43m,\u001b[49m\n\u001b[0;32m     16\u001b[0m \u001b[43m    \u001b[49m\u001b[43mconnection_args\u001b[49m\u001b[38;5;241;43m=\u001b[39;49m\u001b[43mmilvus_connection_args\u001b[49m\u001b[43m,\u001b[49m\n\u001b[0;32m     17\u001b[0m \u001b[43m)\u001b[49m\n",
      "File \u001b[1;32m~\\miniconda3\\envs\\chatbot\\Lib\\site-packages\\langchain_core\\_api\\deprecation.py:216\u001b[0m, in \u001b[0;36mdeprecated.<locals>.deprecate.<locals>.finalize.<locals>.warn_if_direct_instance\u001b[1;34m(self, *args, **kwargs)\u001b[0m\n\u001b[0;32m    215\u001b[0m     emit_warning()\n\u001b[1;32m--> 216\u001b[0m \u001b[38;5;28;01mreturn\u001b[39;00m \u001b[43mwrapped\u001b[49m\u001b[43m(\u001b[49m\u001b[38;5;28;43mself\u001b[39;49m\u001b[43m,\u001b[49m\u001b[43m \u001b[49m\u001b[38;5;241;43m*\u001b[39;49m\u001b[43margs\u001b[49m\u001b[43m,\u001b[49m\u001b[43m \u001b[49m\u001b[38;5;241;43m*\u001b[39;49m\u001b[38;5;241;43m*\u001b[39;49m\u001b[43mkwargs\u001b[49m\u001b[43m)\u001b[49m\n",
      "File \u001b[1;32m~\\miniconda3\\envs\\chatbot\\Lib\\site-packages\\langchain_community\\vectorstores\\milvus.py:223\u001b[0m, in \u001b[0;36mMilvus.__init__\u001b[1;34m(self, embedding_function, collection_name, collection_description, collection_properties, connection_args, consistency_level, index_params, search_params, drop_old, auto_id, primary_field, text_field, vector_field, metadata_field, partition_key_field, partition_names, replica_number, timeout, num_shards)\u001b[0m\n\u001b[0;32m    222\u001b[0m \u001b[38;5;66;03m# Initialize the vector store\u001b[39;00m\n\u001b[1;32m--> 223\u001b[0m \u001b[38;5;28;43mself\u001b[39;49m\u001b[38;5;241;43m.\u001b[39;49m\u001b[43m_init\u001b[49m\u001b[43m(\u001b[49m\n\u001b[0;32m    224\u001b[0m \u001b[43m    \u001b[49m\u001b[43mpartition_names\u001b[49m\u001b[38;5;241;43m=\u001b[39;49m\u001b[43mpartition_names\u001b[49m\u001b[43m,\u001b[49m\n\u001b[0;32m    225\u001b[0m \u001b[43m    \u001b[49m\u001b[43mreplica_number\u001b[49m\u001b[38;5;241;43m=\u001b[39;49m\u001b[43mreplica_number\u001b[49m\u001b[43m,\u001b[49m\n\u001b[0;32m    226\u001b[0m \u001b[43m    \u001b[49m\u001b[43mtimeout\u001b[49m\u001b[38;5;241;43m=\u001b[39;49m\u001b[43mtimeout\u001b[49m\u001b[43m,\u001b[49m\n\u001b[0;32m    227\u001b[0m \u001b[43m\u001b[49m\u001b[43m)\u001b[49m\n",
      "File \u001b[1;32m~\\miniconda3\\envs\\chatbot\\Lib\\site-packages\\langchain_community\\vectorstores\\milvus.py:302\u001b[0m, in \u001b[0;36mMilvus._init\u001b[1;34m(self, embeddings, metadatas, partition_names, replica_number, timeout)\u001b[0m\n\u001b[0;32m    301\u001b[0m \u001b[38;5;28mself\u001b[39m\u001b[38;5;241m.\u001b[39m_extract_fields()\n\u001b[1;32m--> 302\u001b[0m \u001b[38;5;28;43mself\u001b[39;49m\u001b[38;5;241;43m.\u001b[39;49m\u001b[43m_create_index\u001b[49m\u001b[43m(\u001b[49m\u001b[43m)\u001b[49m\n\u001b[0;32m    303\u001b[0m \u001b[38;5;28mself\u001b[39m\u001b[38;5;241m.\u001b[39m_create_search_params()\n",
      "File \u001b[1;32m~\\miniconda3\\envs\\chatbot\\Lib\\site-packages\\langchain_community\\vectorstores\\milvus.py:475\u001b[0m, in \u001b[0;36mMilvus._create_index\u001b[1;34m(self)\u001b[0m\n\u001b[0;32m    472\u001b[0m logger\u001b[38;5;241m.\u001b[39merror(\n\u001b[0;32m    473\u001b[0m     \u001b[38;5;124m\"\u001b[39m\u001b[38;5;124mFailed to create an index on collection: \u001b[39m\u001b[38;5;132;01m%s\u001b[39;00m\u001b[38;5;124m\"\u001b[39m, \u001b[38;5;28mself\u001b[39m\u001b[38;5;241m.\u001b[39mcollection_name\n\u001b[0;32m    474\u001b[0m )\n\u001b[1;32m--> 475\u001b[0m \u001b[38;5;28;01mraise\u001b[39;00m e\n",
      "File \u001b[1;32m~\\miniconda3\\envs\\chatbot\\Lib\\site-packages\\langchain_community\\vectorstores\\milvus.py:461\u001b[0m, in \u001b[0;36mMilvus._create_index\u001b[1;34m(self)\u001b[0m\n\u001b[0;32m    456\u001b[0m     \u001b[38;5;28mself\u001b[39m\u001b[38;5;241m.\u001b[39mindex_params \u001b[38;5;241m=\u001b[39m {\n\u001b[0;32m    457\u001b[0m         \u001b[38;5;124m\"\u001b[39m\u001b[38;5;124mmetric_type\u001b[39m\u001b[38;5;124m\"\u001b[39m: \u001b[38;5;124m\"\u001b[39m\u001b[38;5;124mL2\u001b[39m\u001b[38;5;124m\"\u001b[39m,\n\u001b[0;32m    458\u001b[0m         \u001b[38;5;124m\"\u001b[39m\u001b[38;5;124mindex_type\u001b[39m\u001b[38;5;124m\"\u001b[39m: \u001b[38;5;124m\"\u001b[39m\u001b[38;5;124mAUTOINDEX\u001b[39m\u001b[38;5;124m\"\u001b[39m,\n\u001b[0;32m    459\u001b[0m         \u001b[38;5;124m\"\u001b[39m\u001b[38;5;124mparams\u001b[39m\u001b[38;5;124m\"\u001b[39m: {},\n\u001b[0;32m    460\u001b[0m     }\n\u001b[1;32m--> 461\u001b[0m     \u001b[38;5;28;43mself\u001b[39;49m\u001b[38;5;241;43m.\u001b[39;49m\u001b[43mcol\u001b[49m\u001b[38;5;241;43m.\u001b[39;49m\u001b[43mcreate_index\u001b[49m\u001b[43m(\u001b[49m\n\u001b[0;32m    462\u001b[0m \u001b[43m        \u001b[49m\u001b[38;5;28;43mself\u001b[39;49m\u001b[38;5;241;43m.\u001b[39;49m\u001b[43m_vector_field\u001b[49m\u001b[43m,\u001b[49m\n\u001b[0;32m    463\u001b[0m \u001b[43m        \u001b[49m\u001b[43mindex_params\u001b[49m\u001b[38;5;241;43m=\u001b[39;49m\u001b[38;5;28;43mself\u001b[39;49m\u001b[38;5;241;43m.\u001b[39;49m\u001b[43mindex_params\u001b[49m\u001b[43m,\u001b[49m\n\u001b[0;32m    464\u001b[0m \u001b[43m        \u001b[49m\u001b[43musing\u001b[49m\u001b[38;5;241;43m=\u001b[39;49m\u001b[38;5;28;43mself\u001b[39;49m\u001b[38;5;241;43m.\u001b[39;49m\u001b[43malias\u001b[49m\u001b[43m,\u001b[49m\n\u001b[0;32m    465\u001b[0m \u001b[43m    \u001b[49m\u001b[43m)\u001b[49m\n\u001b[0;32m    466\u001b[0m logger\u001b[38;5;241m.\u001b[39mdebug(\n\u001b[0;32m    467\u001b[0m     \u001b[38;5;124m\"\u001b[39m\u001b[38;5;124mSuccessfully created an index on collection: \u001b[39m\u001b[38;5;132;01m%s\u001b[39;00m\u001b[38;5;124m\"\u001b[39m,\n\u001b[0;32m    468\u001b[0m     \u001b[38;5;28mself\u001b[39m\u001b[38;5;241m.\u001b[39mcollection_name,\n\u001b[0;32m    469\u001b[0m )\n",
      "File \u001b[1;32m~\\miniconda3\\envs\\chatbot\\Lib\\site-packages\\pymilvus\\orm\\collection.py:1373\u001b[0m, in \u001b[0;36mCollection.create_index\u001b[1;34m(self, field_name, index_params, timeout, **kwargs)\u001b[0m\n\u001b[0;32m   1372\u001b[0m conn \u001b[38;5;241m=\u001b[39m \u001b[38;5;28mself\u001b[39m\u001b[38;5;241m.\u001b[39m_get_connection()\n\u001b[1;32m-> 1373\u001b[0m \u001b[38;5;28;01mreturn\u001b[39;00m \u001b[43mconn\u001b[49m\u001b[38;5;241;43m.\u001b[39;49m\u001b[43mcreate_index\u001b[49m\u001b[43m(\u001b[49m\u001b[38;5;28;43mself\u001b[39;49m\u001b[38;5;241;43m.\u001b[39;49m\u001b[43m_name\u001b[49m\u001b[43m,\u001b[49m\u001b[43m \u001b[49m\u001b[43mfield_name\u001b[49m\u001b[43m,\u001b[49m\u001b[43m \u001b[49m\u001b[43mindex_params\u001b[49m\u001b[43m,\u001b[49m\u001b[43m \u001b[49m\u001b[43mtimeout\u001b[49m\u001b[38;5;241;43m=\u001b[39;49m\u001b[43mtimeout\u001b[49m\u001b[43m,\u001b[49m\u001b[43m \u001b[49m\u001b[38;5;241;43m*\u001b[39;49m\u001b[38;5;241;43m*\u001b[39;49m\u001b[43mkwargs\u001b[49m\u001b[43m)\u001b[49m\n",
      "File \u001b[1;32m~\\miniconda3\\envs\\chatbot\\Lib\\site-packages\\pymilvus\\decorators.py:141\u001b[0m, in \u001b[0;36merror_handler.<locals>.wrapper.<locals>.handler\u001b[1;34m(*args, **kwargs)\u001b[0m\n\u001b[0;32m    140\u001b[0m     LOGGER\u001b[38;5;241m.\u001b[39merror(\u001b[38;5;124mf\u001b[39m\u001b[38;5;124m\"\u001b[39m\u001b[38;5;124mRPC error: [\u001b[39m\u001b[38;5;132;01m{\u001b[39;00minner_name\u001b[38;5;132;01m}\u001b[39;00m\u001b[38;5;124m], \u001b[39m\u001b[38;5;132;01m{\u001b[39;00me\u001b[38;5;132;01m}\u001b[39;00m\u001b[38;5;124m, <Time:\u001b[39m\u001b[38;5;132;01m{\u001b[39;00mrecord_dict\u001b[38;5;132;01m}\u001b[39;00m\u001b[38;5;124m>\u001b[39m\u001b[38;5;124m\"\u001b[39m)\n\u001b[1;32m--> 141\u001b[0m     \u001b[38;5;28;01mraise\u001b[39;00m e \u001b[38;5;28;01mfrom\u001b[39;00m \u001b[38;5;21;01me\u001b[39;00m\n\u001b[0;32m    142\u001b[0m \u001b[38;5;28;01mexcept\u001b[39;00m grpc\u001b[38;5;241m.\u001b[39mFutureTimeoutError \u001b[38;5;28;01mas\u001b[39;00m e:\n",
      "File \u001b[1;32m~\\miniconda3\\envs\\chatbot\\Lib\\site-packages\\pymilvus\\decorators.py:137\u001b[0m, in \u001b[0;36merror_handler.<locals>.wrapper.<locals>.handler\u001b[1;34m(*args, **kwargs)\u001b[0m\n\u001b[0;32m    136\u001b[0m     record_dict[\u001b[38;5;124m\"\u001b[39m\u001b[38;5;124mRPC start\u001b[39m\u001b[38;5;124m\"\u001b[39m] \u001b[38;5;241m=\u001b[39m \u001b[38;5;28mstr\u001b[39m(datetime\u001b[38;5;241m.\u001b[39mdatetime\u001b[38;5;241m.\u001b[39mnow())\n\u001b[1;32m--> 137\u001b[0m     \u001b[38;5;28;01mreturn\u001b[39;00m \u001b[43mfunc\u001b[49m\u001b[43m(\u001b[49m\u001b[38;5;241;43m*\u001b[39;49m\u001b[43margs\u001b[49m\u001b[43m,\u001b[49m\u001b[43m \u001b[49m\u001b[38;5;241;43m*\u001b[39;49m\u001b[38;5;241;43m*\u001b[39;49m\u001b[43mkwargs\u001b[49m\u001b[43m)\u001b[49m\n\u001b[0;32m    138\u001b[0m \u001b[38;5;28;01mexcept\u001b[39;00m MilvusException \u001b[38;5;28;01mas\u001b[39;00m e:\n",
      "File \u001b[1;32m~\\miniconda3\\envs\\chatbot\\Lib\\site-packages\\pymilvus\\decorators.py:176\u001b[0m, in \u001b[0;36mtracing_request.<locals>.wrapper.<locals>.handler\u001b[1;34m(self, *args, **kwargs)\u001b[0m\n\u001b[0;32m    175\u001b[0m     \u001b[38;5;28mself\u001b[39m\u001b[38;5;241m.\u001b[39mset_onetime_request_id(req_id)\n\u001b[1;32m--> 176\u001b[0m \u001b[38;5;28;01mreturn\u001b[39;00m \u001b[43mfunc\u001b[49m\u001b[43m(\u001b[49m\u001b[38;5;28;43mself\u001b[39;49m\u001b[43m,\u001b[49m\u001b[43m \u001b[49m\u001b[38;5;241;43m*\u001b[39;49m\u001b[43margs\u001b[49m\u001b[43m,\u001b[49m\u001b[43m \u001b[49m\u001b[38;5;241;43m*\u001b[39;49m\u001b[38;5;241;43m*\u001b[39;49m\u001b[43mkwargs\u001b[49m\u001b[43m)\u001b[49m\n",
      "File \u001b[1;32m~\\miniconda3\\envs\\chatbot\\Lib\\site-packages\\pymilvus\\decorators.py:116\u001b[0m, in \u001b[0;36mretry_on_rpc_failure.<locals>.wrapper.<locals>.handler\u001b[1;34m(*args, **kwargs)\u001b[0m\n\u001b[0;32m    115\u001b[0m     \u001b[38;5;28;01melse\u001b[39;00m:\n\u001b[1;32m--> 116\u001b[0m         \u001b[38;5;28;01mraise\u001b[39;00m e \u001b[38;5;28;01mfrom\u001b[39;00m \u001b[38;5;21;01me\u001b[39;00m\n\u001b[0;32m    117\u001b[0m \u001b[38;5;28;01mexcept\u001b[39;00m \u001b[38;5;167;01mException\u001b[39;00m \u001b[38;5;28;01mas\u001b[39;00m e:\n",
      "File \u001b[1;32m~\\miniconda3\\envs\\chatbot\\Lib\\site-packages\\pymilvus\\decorators.py:86\u001b[0m, in \u001b[0;36mretry_on_rpc_failure.<locals>.wrapper.<locals>.handler\u001b[1;34m(*args, **kwargs)\u001b[0m\n\u001b[0;32m     85\u001b[0m \u001b[38;5;28;01mtry\u001b[39;00m:\n\u001b[1;32m---> 86\u001b[0m     \u001b[38;5;28;01mreturn\u001b[39;00m \u001b[43mfunc\u001b[49m\u001b[43m(\u001b[49m\u001b[38;5;241;43m*\u001b[39;49m\u001b[43margs\u001b[49m\u001b[43m,\u001b[49m\u001b[43m \u001b[49m\u001b[38;5;241;43m*\u001b[39;49m\u001b[38;5;241;43m*\u001b[39;49m\u001b[43mkwargs\u001b[49m\u001b[43m)\u001b[49m\n\u001b[0;32m     87\u001b[0m \u001b[38;5;28;01mexcept\u001b[39;00m grpc\u001b[38;5;241m.\u001b[39mRpcError \u001b[38;5;28;01mas\u001b[39;00m e:\n\u001b[0;32m     88\u001b[0m     \u001b[38;5;66;03m# Do not retry on these codes\u001b[39;00m\n",
      "File \u001b[1;32m~\\miniconda3\\envs\\chatbot\\Lib\\site-packages\\pymilvus\\client\\grpc_handler.py:959\u001b[0m, in \u001b[0;36mGrpcHandler.create_index\u001b[1;34m(self, collection_name, field_name, params, timeout, **kwargs)\u001b[0m\n\u001b[0;32m    958\u001b[0m \u001b[38;5;28;01mif\u001b[39;00m \u001b[38;5;129;01mnot\u001b[39;00m valid_field:\n\u001b[1;32m--> 959\u001b[0m     \u001b[38;5;28;01mraise\u001b[39;00m MilvusException(message\u001b[38;5;241m=\u001b[39m\u001b[38;5;124mf\u001b[39m\u001b[38;5;124m\"\u001b[39m\u001b[38;5;124mcannot create index on non-existed field: \u001b[39m\u001b[38;5;132;01m{\u001b[39;00mfield_name\u001b[38;5;132;01m}\u001b[39;00m\u001b[38;5;124m\"\u001b[39m)\n\u001b[0;32m    961\u001b[0m \u001b[38;5;66;03m# sync flush\u001b[39;00m\n",
      "\u001b[1;31mMilvusException\u001b[0m: <MilvusException: (code=1, message=cannot create index on non-existed field: vector)>",
      "\nThe above exception was the direct cause of the following exception:\n",
      "\u001b[1;31mMilvusException\u001b[0m                           Traceback (most recent call last)",
      "    \u001b[1;31m[... skipping hidden 1 frame]\u001b[0m\n",
      "Cell \u001b[1;32mIn[57], line 13\u001b[0m\n\u001b[0;32m     12\u001b[0m \u001b[38;5;66;03m# Inisialisasi vector store menggunakan koleksi yang sudah ada\u001b[39;00m\n\u001b[1;32m---> 13\u001b[0m vector_store \u001b[38;5;241m=\u001b[39m \u001b[43mMilvus\u001b[49m\u001b[43m(\u001b[49m\n\u001b[0;32m     14\u001b[0m \u001b[43m    \u001b[49m\u001b[43membedding_function\u001b[49m\u001b[38;5;241;43m=\u001b[39;49m\u001b[38;5;28;43;01mNone\u001b[39;49;00m\u001b[43m,\u001b[49m\u001b[43m  \u001b[49m\u001b[38;5;66;43;03m# Tidak diperlukan karena sudah ada embedding\u001b[39;49;00m\n\u001b[0;32m     15\u001b[0m \u001b[43m    \u001b[49m\u001b[43mcollection_name\u001b[49m\u001b[38;5;241;43m=\u001b[39;49m\u001b[43mcollection_name\u001b[49m\u001b[43m,\u001b[49m\n\u001b[0;32m     16\u001b[0m \u001b[43m    \u001b[49m\u001b[43mconnection_args\u001b[49m\u001b[38;5;241;43m=\u001b[39;49m\u001b[43mmilvus_connection_args\u001b[49m\u001b[43m,\u001b[49m\n\u001b[0;32m     17\u001b[0m \u001b[43m)\u001b[49m\n",
      "File \u001b[1;32m~\\miniconda3\\envs\\chatbot\\Lib\\site-packages\\langchain_core\\_api\\deprecation.py:216\u001b[0m, in \u001b[0;36mdeprecated.<locals>.deprecate.<locals>.finalize.<locals>.warn_if_direct_instance\u001b[1;34m(self, *args, **kwargs)\u001b[0m\n\u001b[0;32m    215\u001b[0m     emit_warning()\n\u001b[1;32m--> 216\u001b[0m \u001b[38;5;28;01mreturn\u001b[39;00m \u001b[43mwrapped\u001b[49m\u001b[43m(\u001b[49m\u001b[38;5;28;43mself\u001b[39;49m\u001b[43m,\u001b[49m\u001b[43m \u001b[49m\u001b[38;5;241;43m*\u001b[39;49m\u001b[43margs\u001b[49m\u001b[43m,\u001b[49m\u001b[43m \u001b[49m\u001b[38;5;241;43m*\u001b[39;49m\u001b[38;5;241;43m*\u001b[39;49m\u001b[43mkwargs\u001b[49m\u001b[43m)\u001b[49m\n",
      "File \u001b[1;32m~\\miniconda3\\envs\\chatbot\\Lib\\site-packages\\langchain_community\\vectorstores\\milvus.py:223\u001b[0m, in \u001b[0;36mMilvus.__init__\u001b[1;34m(self, embedding_function, collection_name, collection_description, collection_properties, connection_args, consistency_level, index_params, search_params, drop_old, auto_id, primary_field, text_field, vector_field, metadata_field, partition_key_field, partition_names, replica_number, timeout, num_shards)\u001b[0m\n\u001b[0;32m    222\u001b[0m \u001b[38;5;66;03m# Initialize the vector store\u001b[39;00m\n\u001b[1;32m--> 223\u001b[0m \u001b[38;5;28;43mself\u001b[39;49m\u001b[38;5;241;43m.\u001b[39;49m\u001b[43m_init\u001b[49m\u001b[43m(\u001b[49m\n\u001b[0;32m    224\u001b[0m \u001b[43m    \u001b[49m\u001b[43mpartition_names\u001b[49m\u001b[38;5;241;43m=\u001b[39;49m\u001b[43mpartition_names\u001b[49m\u001b[43m,\u001b[49m\n\u001b[0;32m    225\u001b[0m \u001b[43m    \u001b[49m\u001b[43mreplica_number\u001b[49m\u001b[38;5;241;43m=\u001b[39;49m\u001b[43mreplica_number\u001b[49m\u001b[43m,\u001b[49m\n\u001b[0;32m    226\u001b[0m \u001b[43m    \u001b[49m\u001b[43mtimeout\u001b[49m\u001b[38;5;241;43m=\u001b[39;49m\u001b[43mtimeout\u001b[49m\u001b[43m,\u001b[49m\n\u001b[0;32m    227\u001b[0m \u001b[43m\u001b[49m\u001b[43m)\u001b[49m\n",
      "File \u001b[1;32m~\\miniconda3\\envs\\chatbot\\Lib\\site-packages\\langchain_community\\vectorstores\\milvus.py:302\u001b[0m, in \u001b[0;36mMilvus._init\u001b[1;34m(self, embeddings, metadatas, partition_names, replica_number, timeout)\u001b[0m\n\u001b[0;32m    301\u001b[0m \u001b[38;5;28mself\u001b[39m\u001b[38;5;241m.\u001b[39m_extract_fields()\n\u001b[1;32m--> 302\u001b[0m \u001b[38;5;28;43mself\u001b[39;49m\u001b[38;5;241;43m.\u001b[39;49m\u001b[43m_create_index\u001b[49m\u001b[43m(\u001b[49m\u001b[43m)\u001b[49m\n\u001b[0;32m    303\u001b[0m \u001b[38;5;28mself\u001b[39m\u001b[38;5;241m.\u001b[39m_create_search_params()\n",
      "File \u001b[1;32m~\\miniconda3\\envs\\chatbot\\Lib\\site-packages\\langchain_community\\vectorstores\\milvus.py:475\u001b[0m, in \u001b[0;36mMilvus._create_index\u001b[1;34m(self)\u001b[0m\n\u001b[0;32m    472\u001b[0m logger\u001b[38;5;241m.\u001b[39merror(\n\u001b[0;32m    473\u001b[0m     \u001b[38;5;124m\"\u001b[39m\u001b[38;5;124mFailed to create an index on collection: \u001b[39m\u001b[38;5;132;01m%s\u001b[39;00m\u001b[38;5;124m\"\u001b[39m, \u001b[38;5;28mself\u001b[39m\u001b[38;5;241m.\u001b[39mcollection_name\n\u001b[0;32m    474\u001b[0m )\n\u001b[1;32m--> 475\u001b[0m \u001b[38;5;28;01mraise\u001b[39;00m e\n",
      "File \u001b[1;32m~\\miniconda3\\envs\\chatbot\\Lib\\site-packages\\langchain_community\\vectorstores\\milvus.py:461\u001b[0m, in \u001b[0;36mMilvus._create_index\u001b[1;34m(self)\u001b[0m\n\u001b[0;32m    456\u001b[0m     \u001b[38;5;28mself\u001b[39m\u001b[38;5;241m.\u001b[39mindex_params \u001b[38;5;241m=\u001b[39m {\n\u001b[0;32m    457\u001b[0m         \u001b[38;5;124m\"\u001b[39m\u001b[38;5;124mmetric_type\u001b[39m\u001b[38;5;124m\"\u001b[39m: \u001b[38;5;124m\"\u001b[39m\u001b[38;5;124mL2\u001b[39m\u001b[38;5;124m\"\u001b[39m,\n\u001b[0;32m    458\u001b[0m         \u001b[38;5;124m\"\u001b[39m\u001b[38;5;124mindex_type\u001b[39m\u001b[38;5;124m\"\u001b[39m: \u001b[38;5;124m\"\u001b[39m\u001b[38;5;124mAUTOINDEX\u001b[39m\u001b[38;5;124m\"\u001b[39m,\n\u001b[0;32m    459\u001b[0m         \u001b[38;5;124m\"\u001b[39m\u001b[38;5;124mparams\u001b[39m\u001b[38;5;124m\"\u001b[39m: {},\n\u001b[0;32m    460\u001b[0m     }\n\u001b[1;32m--> 461\u001b[0m     \u001b[38;5;28;43mself\u001b[39;49m\u001b[38;5;241;43m.\u001b[39;49m\u001b[43mcol\u001b[49m\u001b[38;5;241;43m.\u001b[39;49m\u001b[43mcreate_index\u001b[49m\u001b[43m(\u001b[49m\n\u001b[0;32m    462\u001b[0m \u001b[43m        \u001b[49m\u001b[38;5;28;43mself\u001b[39;49m\u001b[38;5;241;43m.\u001b[39;49m\u001b[43m_vector_field\u001b[49m\u001b[43m,\u001b[49m\n\u001b[0;32m    463\u001b[0m \u001b[43m        \u001b[49m\u001b[43mindex_params\u001b[49m\u001b[38;5;241;43m=\u001b[39;49m\u001b[38;5;28;43mself\u001b[39;49m\u001b[38;5;241;43m.\u001b[39;49m\u001b[43mindex_params\u001b[49m\u001b[43m,\u001b[49m\n\u001b[0;32m    464\u001b[0m \u001b[43m        \u001b[49m\u001b[43musing\u001b[49m\u001b[38;5;241;43m=\u001b[39;49m\u001b[38;5;28;43mself\u001b[39;49m\u001b[38;5;241;43m.\u001b[39;49m\u001b[43malias\u001b[49m\u001b[43m,\u001b[49m\n\u001b[0;32m    465\u001b[0m \u001b[43m    \u001b[49m\u001b[43m)\u001b[49m\n\u001b[0;32m    466\u001b[0m logger\u001b[38;5;241m.\u001b[39mdebug(\n\u001b[0;32m    467\u001b[0m     \u001b[38;5;124m\"\u001b[39m\u001b[38;5;124mSuccessfully created an index on collection: \u001b[39m\u001b[38;5;132;01m%s\u001b[39;00m\u001b[38;5;124m\"\u001b[39m,\n\u001b[0;32m    468\u001b[0m     \u001b[38;5;28mself\u001b[39m\u001b[38;5;241m.\u001b[39mcollection_name,\n\u001b[0;32m    469\u001b[0m )\n",
      "File \u001b[1;32m~\\miniconda3\\envs\\chatbot\\Lib\\site-packages\\pymilvus\\orm\\collection.py:1373\u001b[0m, in \u001b[0;36mCollection.create_index\u001b[1;34m(self, field_name, index_params, timeout, **kwargs)\u001b[0m\n\u001b[0;32m   1372\u001b[0m conn \u001b[38;5;241m=\u001b[39m \u001b[38;5;28mself\u001b[39m\u001b[38;5;241m.\u001b[39m_get_connection()\n\u001b[1;32m-> 1373\u001b[0m \u001b[38;5;28;01mreturn\u001b[39;00m \u001b[43mconn\u001b[49m\u001b[38;5;241;43m.\u001b[39;49m\u001b[43mcreate_index\u001b[49m\u001b[43m(\u001b[49m\u001b[38;5;28;43mself\u001b[39;49m\u001b[38;5;241;43m.\u001b[39;49m\u001b[43m_name\u001b[49m\u001b[43m,\u001b[49m\u001b[43m \u001b[49m\u001b[43mfield_name\u001b[49m\u001b[43m,\u001b[49m\u001b[43m \u001b[49m\u001b[43mindex_params\u001b[49m\u001b[43m,\u001b[49m\u001b[43m \u001b[49m\u001b[43mtimeout\u001b[49m\u001b[38;5;241;43m=\u001b[39;49m\u001b[43mtimeout\u001b[49m\u001b[43m,\u001b[49m\u001b[43m \u001b[49m\u001b[38;5;241;43m*\u001b[39;49m\u001b[38;5;241;43m*\u001b[39;49m\u001b[43mkwargs\u001b[49m\u001b[43m)\u001b[49m\n",
      "File \u001b[1;32m~\\miniconda3\\envs\\chatbot\\Lib\\site-packages\\pymilvus\\decorators.py:141\u001b[0m, in \u001b[0;36merror_handler.<locals>.wrapper.<locals>.handler\u001b[1;34m(*args, **kwargs)\u001b[0m\n\u001b[0;32m    140\u001b[0m     LOGGER\u001b[38;5;241m.\u001b[39merror(\u001b[38;5;124mf\u001b[39m\u001b[38;5;124m\"\u001b[39m\u001b[38;5;124mRPC error: [\u001b[39m\u001b[38;5;132;01m{\u001b[39;00minner_name\u001b[38;5;132;01m}\u001b[39;00m\u001b[38;5;124m], \u001b[39m\u001b[38;5;132;01m{\u001b[39;00me\u001b[38;5;132;01m}\u001b[39;00m\u001b[38;5;124m, <Time:\u001b[39m\u001b[38;5;132;01m{\u001b[39;00mrecord_dict\u001b[38;5;132;01m}\u001b[39;00m\u001b[38;5;124m>\u001b[39m\u001b[38;5;124m\"\u001b[39m)\n\u001b[1;32m--> 141\u001b[0m     \u001b[38;5;28;01mraise\u001b[39;00m e \u001b[38;5;28;01mfrom\u001b[39;00m \u001b[38;5;21;01me\u001b[39;00m\n\u001b[0;32m    142\u001b[0m \u001b[38;5;28;01mexcept\u001b[39;00m grpc\u001b[38;5;241m.\u001b[39mFutureTimeoutError \u001b[38;5;28;01mas\u001b[39;00m e:\n",
      "File \u001b[1;32m~\\miniconda3\\envs\\chatbot\\Lib\\site-packages\\pymilvus\\decorators.py:137\u001b[0m, in \u001b[0;36merror_handler.<locals>.wrapper.<locals>.handler\u001b[1;34m(*args, **kwargs)\u001b[0m\n\u001b[0;32m    136\u001b[0m     record_dict[\u001b[38;5;124m\"\u001b[39m\u001b[38;5;124mRPC start\u001b[39m\u001b[38;5;124m\"\u001b[39m] \u001b[38;5;241m=\u001b[39m \u001b[38;5;28mstr\u001b[39m(datetime\u001b[38;5;241m.\u001b[39mdatetime\u001b[38;5;241m.\u001b[39mnow())\n\u001b[1;32m--> 137\u001b[0m     \u001b[38;5;28;01mreturn\u001b[39;00m \u001b[43mfunc\u001b[49m\u001b[43m(\u001b[49m\u001b[38;5;241;43m*\u001b[39;49m\u001b[43margs\u001b[49m\u001b[43m,\u001b[49m\u001b[43m \u001b[49m\u001b[38;5;241;43m*\u001b[39;49m\u001b[38;5;241;43m*\u001b[39;49m\u001b[43mkwargs\u001b[49m\u001b[43m)\u001b[49m\n\u001b[0;32m    138\u001b[0m \u001b[38;5;28;01mexcept\u001b[39;00m MilvusException \u001b[38;5;28;01mas\u001b[39;00m e:\n",
      "File \u001b[1;32m~\\miniconda3\\envs\\chatbot\\Lib\\site-packages\\pymilvus\\decorators.py:176\u001b[0m, in \u001b[0;36mtracing_request.<locals>.wrapper.<locals>.handler\u001b[1;34m(self, *args, **kwargs)\u001b[0m\n\u001b[0;32m    175\u001b[0m     \u001b[38;5;28mself\u001b[39m\u001b[38;5;241m.\u001b[39mset_onetime_request_id(req_id)\n\u001b[1;32m--> 176\u001b[0m \u001b[38;5;28;01mreturn\u001b[39;00m \u001b[43mfunc\u001b[49m\u001b[43m(\u001b[49m\u001b[38;5;28;43mself\u001b[39;49m\u001b[43m,\u001b[49m\u001b[43m \u001b[49m\u001b[38;5;241;43m*\u001b[39;49m\u001b[43margs\u001b[49m\u001b[43m,\u001b[49m\u001b[43m \u001b[49m\u001b[38;5;241;43m*\u001b[39;49m\u001b[38;5;241;43m*\u001b[39;49m\u001b[43mkwargs\u001b[49m\u001b[43m)\u001b[49m\n",
      "File \u001b[1;32m~\\miniconda3\\envs\\chatbot\\Lib\\site-packages\\pymilvus\\decorators.py:116\u001b[0m, in \u001b[0;36mretry_on_rpc_failure.<locals>.wrapper.<locals>.handler\u001b[1;34m(*args, **kwargs)\u001b[0m\n\u001b[0;32m    115\u001b[0m     \u001b[38;5;28;01melse\u001b[39;00m:\n\u001b[1;32m--> 116\u001b[0m         \u001b[38;5;28;01mraise\u001b[39;00m e \u001b[38;5;28;01mfrom\u001b[39;00m \u001b[38;5;21;01me\u001b[39;00m\n\u001b[0;32m    117\u001b[0m \u001b[38;5;28;01mexcept\u001b[39;00m \u001b[38;5;167;01mException\u001b[39;00m \u001b[38;5;28;01mas\u001b[39;00m e:\n",
      "File \u001b[1;32m~\\miniconda3\\envs\\chatbot\\Lib\\site-packages\\pymilvus\\decorators.py:86\u001b[0m, in \u001b[0;36mretry_on_rpc_failure.<locals>.wrapper.<locals>.handler\u001b[1;34m(*args, **kwargs)\u001b[0m\n\u001b[0;32m     85\u001b[0m \u001b[38;5;28;01mtry\u001b[39;00m:\n\u001b[1;32m---> 86\u001b[0m     \u001b[38;5;28;01mreturn\u001b[39;00m \u001b[43mfunc\u001b[49m\u001b[43m(\u001b[49m\u001b[38;5;241;43m*\u001b[39;49m\u001b[43margs\u001b[49m\u001b[43m,\u001b[49m\u001b[43m \u001b[49m\u001b[38;5;241;43m*\u001b[39;49m\u001b[38;5;241;43m*\u001b[39;49m\u001b[43mkwargs\u001b[49m\u001b[43m)\u001b[49m\n\u001b[0;32m     87\u001b[0m \u001b[38;5;28;01mexcept\u001b[39;00m grpc\u001b[38;5;241m.\u001b[39mRpcError \u001b[38;5;28;01mas\u001b[39;00m e:\n\u001b[0;32m     88\u001b[0m     \u001b[38;5;66;03m# Do not retry on these codes\u001b[39;00m\n",
      "File \u001b[1;32m~\\miniconda3\\envs\\chatbot\\Lib\\site-packages\\pymilvus\\client\\grpc_handler.py:959\u001b[0m, in \u001b[0;36mGrpcHandler.create_index\u001b[1;34m(self, collection_name, field_name, params, timeout, **kwargs)\u001b[0m\n\u001b[0;32m    958\u001b[0m \u001b[38;5;28;01mif\u001b[39;00m \u001b[38;5;129;01mnot\u001b[39;00m valid_field:\n\u001b[1;32m--> 959\u001b[0m     \u001b[38;5;28;01mraise\u001b[39;00m MilvusException(message\u001b[38;5;241m=\u001b[39m\u001b[38;5;124mf\u001b[39m\u001b[38;5;124m\"\u001b[39m\u001b[38;5;124mcannot create index on non-existed field: \u001b[39m\u001b[38;5;132;01m{\u001b[39;00mfield_name\u001b[38;5;132;01m}\u001b[39;00m\u001b[38;5;124m\"\u001b[39m)\n\u001b[0;32m    961\u001b[0m \u001b[38;5;66;03m# sync flush\u001b[39;00m\n",
      "\u001b[1;31mMilvusException\u001b[0m: <MilvusException: (code=1, message=cannot create index on non-existed field: vector)>",
      "\nThe above exception was the direct cause of the following exception:\n",
      "\u001b[1;31mMilvusException\u001b[0m                           Traceback (most recent call last)",
      "Cell \u001b[1;32mIn[57], line 13\u001b[0m\n\u001b[0;32m     10\u001b[0m \u001b[38;5;28mprint\u001b[39m(\u001b[38;5;124mf\u001b[39m\u001b[38;5;124m\"\u001b[39m\u001b[38;5;124mConnected to Milvus collection: \u001b[39m\u001b[38;5;132;01m{\u001b[39;00mcollection_name\u001b[38;5;132;01m}\u001b[39;00m\u001b[38;5;124m\"\u001b[39m)\n\u001b[0;32m     12\u001b[0m \u001b[38;5;66;03m# Inisialisasi vector store menggunakan koleksi yang sudah ada\u001b[39;00m\n\u001b[1;32m---> 13\u001b[0m vector_store \u001b[38;5;241m=\u001b[39m \u001b[43mMilvus\u001b[49m\u001b[43m(\u001b[49m\n\u001b[0;32m     14\u001b[0m \u001b[43m    \u001b[49m\u001b[43membedding_function\u001b[49m\u001b[38;5;241;43m=\u001b[39;49m\u001b[38;5;28;43;01mNone\u001b[39;49;00m\u001b[43m,\u001b[49m\u001b[43m  \u001b[49m\u001b[38;5;66;43;03m# Tidak diperlukan karena sudah ada embedding\u001b[39;49;00m\n\u001b[0;32m     15\u001b[0m \u001b[43m    \u001b[49m\u001b[43mcollection_name\u001b[49m\u001b[38;5;241;43m=\u001b[39;49m\u001b[43mcollection_name\u001b[49m\u001b[43m,\u001b[49m\n\u001b[0;32m     16\u001b[0m \u001b[43m    \u001b[49m\u001b[43mconnection_args\u001b[49m\u001b[38;5;241;43m=\u001b[39;49m\u001b[43mmilvus_connection_args\u001b[49m\u001b[43m,\u001b[49m\n\u001b[0;32m     17\u001b[0m \u001b[43m)\u001b[49m\n",
      "File \u001b[1;32m~\\miniconda3\\envs\\chatbot\\Lib\\site-packages\\langchain_core\\_api\\deprecation.py:216\u001b[0m, in \u001b[0;36mdeprecated.<locals>.deprecate.<locals>.finalize.<locals>.warn_if_direct_instance\u001b[1;34m(self, *args, **kwargs)\u001b[0m\n\u001b[0;32m    214\u001b[0m     warned \u001b[38;5;241m=\u001b[39m \u001b[38;5;28;01mTrue\u001b[39;00m\n\u001b[0;32m    215\u001b[0m     emit_warning()\n\u001b[1;32m--> 216\u001b[0m \u001b[38;5;28;01mreturn\u001b[39;00m \u001b[43mwrapped\u001b[49m\u001b[43m(\u001b[49m\u001b[38;5;28;43mself\u001b[39;49m\u001b[43m,\u001b[49m\u001b[43m \u001b[49m\u001b[38;5;241;43m*\u001b[39;49m\u001b[43margs\u001b[49m\u001b[43m,\u001b[49m\u001b[43m \u001b[49m\u001b[38;5;241;43m*\u001b[39;49m\u001b[38;5;241;43m*\u001b[39;49m\u001b[43mkwargs\u001b[49m\u001b[43m)\u001b[49m\n",
      "File \u001b[1;32m~\\miniconda3\\envs\\chatbot\\Lib\\site-packages\\langchain_community\\vectorstores\\milvus.py:223\u001b[0m, in \u001b[0;36mMilvus.__init__\u001b[1;34m(self, embedding_function, collection_name, collection_description, collection_properties, connection_args, consistency_level, index_params, search_params, drop_old, auto_id, primary_field, text_field, vector_field, metadata_field, partition_key_field, partition_names, replica_number, timeout, num_shards)\u001b[0m\n\u001b[0;32m    220\u001b[0m     \u001b[38;5;28mself\u001b[39m\u001b[38;5;241m.\u001b[39mcol \u001b[38;5;241m=\u001b[39m \u001b[38;5;28;01mNone\u001b[39;00m\n\u001b[0;32m    222\u001b[0m \u001b[38;5;66;03m# Initialize the vector store\u001b[39;00m\n\u001b[1;32m--> 223\u001b[0m \u001b[38;5;28;43mself\u001b[39;49m\u001b[38;5;241;43m.\u001b[39;49m\u001b[43m_init\u001b[49m\u001b[43m(\u001b[49m\n\u001b[0;32m    224\u001b[0m \u001b[43m    \u001b[49m\u001b[43mpartition_names\u001b[49m\u001b[38;5;241;43m=\u001b[39;49m\u001b[43mpartition_names\u001b[49m\u001b[43m,\u001b[49m\n\u001b[0;32m    225\u001b[0m \u001b[43m    \u001b[49m\u001b[43mreplica_number\u001b[49m\u001b[38;5;241;43m=\u001b[39;49m\u001b[43mreplica_number\u001b[49m\u001b[43m,\u001b[49m\n\u001b[0;32m    226\u001b[0m \u001b[43m    \u001b[49m\u001b[43mtimeout\u001b[49m\u001b[38;5;241;43m=\u001b[39;49m\u001b[43mtimeout\u001b[49m\u001b[43m,\u001b[49m\n\u001b[0;32m    227\u001b[0m \u001b[43m\u001b[49m\u001b[43m)\u001b[49m\n",
      "File \u001b[1;32m~\\miniconda3\\envs\\chatbot\\Lib\\site-packages\\langchain_community\\vectorstores\\milvus.py:302\u001b[0m, in \u001b[0;36mMilvus._init\u001b[1;34m(self, embeddings, metadatas, partition_names, replica_number, timeout)\u001b[0m\n\u001b[0;32m    300\u001b[0m     \u001b[38;5;28mself\u001b[39m\u001b[38;5;241m.\u001b[39m_create_collection(embeddings, metadatas)\n\u001b[0;32m    301\u001b[0m \u001b[38;5;28mself\u001b[39m\u001b[38;5;241m.\u001b[39m_extract_fields()\n\u001b[1;32m--> 302\u001b[0m \u001b[38;5;28;43mself\u001b[39;49m\u001b[38;5;241;43m.\u001b[39;49m\u001b[43m_create_index\u001b[49m\u001b[43m(\u001b[49m\u001b[43m)\u001b[49m\n\u001b[0;32m    303\u001b[0m \u001b[38;5;28mself\u001b[39m\u001b[38;5;241m.\u001b[39m_create_search_params()\n\u001b[0;32m    304\u001b[0m \u001b[38;5;28mself\u001b[39m\u001b[38;5;241m.\u001b[39m_load(\n\u001b[0;32m    305\u001b[0m     partition_names\u001b[38;5;241m=\u001b[39mpartition_names,\n\u001b[0;32m    306\u001b[0m     replica_number\u001b[38;5;241m=\u001b[39mreplica_number,\n\u001b[0;32m    307\u001b[0m     timeout\u001b[38;5;241m=\u001b[39mtimeout,\n\u001b[0;32m    308\u001b[0m )\n",
      "File \u001b[1;32m~\\miniconda3\\envs\\chatbot\\Lib\\site-packages\\langchain_community\\vectorstores\\milvus.py:475\u001b[0m, in \u001b[0;36mMilvus._create_index\u001b[1;34m(self)\u001b[0m\n\u001b[0;32m    471\u001b[0m \u001b[38;5;28;01mexcept\u001b[39;00m MilvusException \u001b[38;5;28;01mas\u001b[39;00m e:\n\u001b[0;32m    472\u001b[0m     logger\u001b[38;5;241m.\u001b[39merror(\n\u001b[0;32m    473\u001b[0m         \u001b[38;5;124m\"\u001b[39m\u001b[38;5;124mFailed to create an index on collection: \u001b[39m\u001b[38;5;132;01m%s\u001b[39;00m\u001b[38;5;124m\"\u001b[39m, \u001b[38;5;28mself\u001b[39m\u001b[38;5;241m.\u001b[39mcollection_name\n\u001b[0;32m    474\u001b[0m     )\n\u001b[1;32m--> 475\u001b[0m     \u001b[38;5;28;01mraise\u001b[39;00m e\n",
      "File \u001b[1;32m~\\miniconda3\\envs\\chatbot\\Lib\\site-packages\\langchain_community\\vectorstores\\milvus.py:461\u001b[0m, in \u001b[0;36mMilvus._create_index\u001b[1;34m(self)\u001b[0m\n\u001b[0;32m    454\u001b[0m     \u001b[38;5;28;01mexcept\u001b[39;00m MilvusException:\n\u001b[0;32m    455\u001b[0m         \u001b[38;5;66;03m# Use AUTOINDEX based index\u001b[39;00m\n\u001b[0;32m    456\u001b[0m         \u001b[38;5;28mself\u001b[39m\u001b[38;5;241m.\u001b[39mindex_params \u001b[38;5;241m=\u001b[39m {\n\u001b[0;32m    457\u001b[0m             \u001b[38;5;124m\"\u001b[39m\u001b[38;5;124mmetric_type\u001b[39m\u001b[38;5;124m\"\u001b[39m: \u001b[38;5;124m\"\u001b[39m\u001b[38;5;124mL2\u001b[39m\u001b[38;5;124m\"\u001b[39m,\n\u001b[0;32m    458\u001b[0m             \u001b[38;5;124m\"\u001b[39m\u001b[38;5;124mindex_type\u001b[39m\u001b[38;5;124m\"\u001b[39m: \u001b[38;5;124m\"\u001b[39m\u001b[38;5;124mAUTOINDEX\u001b[39m\u001b[38;5;124m\"\u001b[39m,\n\u001b[0;32m    459\u001b[0m             \u001b[38;5;124m\"\u001b[39m\u001b[38;5;124mparams\u001b[39m\u001b[38;5;124m\"\u001b[39m: {},\n\u001b[0;32m    460\u001b[0m         }\n\u001b[1;32m--> 461\u001b[0m         \u001b[38;5;28;43mself\u001b[39;49m\u001b[38;5;241;43m.\u001b[39;49m\u001b[43mcol\u001b[49m\u001b[38;5;241;43m.\u001b[39;49m\u001b[43mcreate_index\u001b[49m\u001b[43m(\u001b[49m\n\u001b[0;32m    462\u001b[0m \u001b[43m            \u001b[49m\u001b[38;5;28;43mself\u001b[39;49m\u001b[38;5;241;43m.\u001b[39;49m\u001b[43m_vector_field\u001b[49m\u001b[43m,\u001b[49m\n\u001b[0;32m    463\u001b[0m \u001b[43m            \u001b[49m\u001b[43mindex_params\u001b[49m\u001b[38;5;241;43m=\u001b[39;49m\u001b[38;5;28;43mself\u001b[39;49m\u001b[38;5;241;43m.\u001b[39;49m\u001b[43mindex_params\u001b[49m\u001b[43m,\u001b[49m\n\u001b[0;32m    464\u001b[0m \u001b[43m            \u001b[49m\u001b[43musing\u001b[49m\u001b[38;5;241;43m=\u001b[39;49m\u001b[38;5;28;43mself\u001b[39;49m\u001b[38;5;241;43m.\u001b[39;49m\u001b[43malias\u001b[49m\u001b[43m,\u001b[49m\n\u001b[0;32m    465\u001b[0m \u001b[43m        \u001b[49m\u001b[43m)\u001b[49m\n\u001b[0;32m    466\u001b[0m     logger\u001b[38;5;241m.\u001b[39mdebug(\n\u001b[0;32m    467\u001b[0m         \u001b[38;5;124m\"\u001b[39m\u001b[38;5;124mSuccessfully created an index on collection: \u001b[39m\u001b[38;5;132;01m%s\u001b[39;00m\u001b[38;5;124m\"\u001b[39m,\n\u001b[0;32m    468\u001b[0m         \u001b[38;5;28mself\u001b[39m\u001b[38;5;241m.\u001b[39mcollection_name,\n\u001b[0;32m    469\u001b[0m     )\n\u001b[0;32m    471\u001b[0m \u001b[38;5;28;01mexcept\u001b[39;00m MilvusException \u001b[38;5;28;01mas\u001b[39;00m e:\n",
      "File \u001b[1;32m~\\miniconda3\\envs\\chatbot\\Lib\\site-packages\\pymilvus\\orm\\collection.py:1373\u001b[0m, in \u001b[0;36mCollection.create_index\u001b[1;34m(self, field_name, index_params, timeout, **kwargs)\u001b[0m\n\u001b[0;32m   1335\u001b[0m \u001b[38;5;250m\u001b[39m\u001b[38;5;124;03m\"\"\"Creates index for a specified field, with a index name.\u001b[39;00m\n\u001b[0;32m   1336\u001b[0m \n\u001b[0;32m   1337\u001b[0m \u001b[38;5;124;03mArgs:\u001b[39;00m\n\u001b[1;32m   (...)\u001b[0m\n\u001b[0;32m   1370\u001b[0m \u001b[38;5;124;03m    Status(code=0, message='')\u001b[39;00m\n\u001b[0;32m   1371\u001b[0m \u001b[38;5;124;03m\"\"\"\u001b[39;00m\n\u001b[0;32m   1372\u001b[0m conn \u001b[38;5;241m=\u001b[39m \u001b[38;5;28mself\u001b[39m\u001b[38;5;241m.\u001b[39m_get_connection()\n\u001b[1;32m-> 1373\u001b[0m \u001b[38;5;28;01mreturn\u001b[39;00m \u001b[43mconn\u001b[49m\u001b[38;5;241;43m.\u001b[39;49m\u001b[43mcreate_index\u001b[49m\u001b[43m(\u001b[49m\u001b[38;5;28;43mself\u001b[39;49m\u001b[38;5;241;43m.\u001b[39;49m\u001b[43m_name\u001b[49m\u001b[43m,\u001b[49m\u001b[43m \u001b[49m\u001b[43mfield_name\u001b[49m\u001b[43m,\u001b[49m\u001b[43m \u001b[49m\u001b[43mindex_params\u001b[49m\u001b[43m,\u001b[49m\u001b[43m \u001b[49m\u001b[43mtimeout\u001b[49m\u001b[38;5;241;43m=\u001b[39;49m\u001b[43mtimeout\u001b[49m\u001b[43m,\u001b[49m\u001b[43m \u001b[49m\u001b[38;5;241;43m*\u001b[39;49m\u001b[38;5;241;43m*\u001b[39;49m\u001b[43mkwargs\u001b[49m\u001b[43m)\u001b[49m\n",
      "File \u001b[1;32m~\\miniconda3\\envs\\chatbot\\Lib\\site-packages\\pymilvus\\decorators.py:141\u001b[0m, in \u001b[0;36merror_handler.<locals>.wrapper.<locals>.handler\u001b[1;34m(*args, **kwargs)\u001b[0m\n\u001b[0;32m    139\u001b[0m     record_dict[\u001b[38;5;124m\"\u001b[39m\u001b[38;5;124mRPC error\u001b[39m\u001b[38;5;124m\"\u001b[39m] \u001b[38;5;241m=\u001b[39m \u001b[38;5;28mstr\u001b[39m(datetime\u001b[38;5;241m.\u001b[39mdatetime\u001b[38;5;241m.\u001b[39mnow())\n\u001b[0;32m    140\u001b[0m     LOGGER\u001b[38;5;241m.\u001b[39merror(\u001b[38;5;124mf\u001b[39m\u001b[38;5;124m\"\u001b[39m\u001b[38;5;124mRPC error: [\u001b[39m\u001b[38;5;132;01m{\u001b[39;00minner_name\u001b[38;5;132;01m}\u001b[39;00m\u001b[38;5;124m], \u001b[39m\u001b[38;5;132;01m{\u001b[39;00me\u001b[38;5;132;01m}\u001b[39;00m\u001b[38;5;124m, <Time:\u001b[39m\u001b[38;5;132;01m{\u001b[39;00mrecord_dict\u001b[38;5;132;01m}\u001b[39;00m\u001b[38;5;124m>\u001b[39m\u001b[38;5;124m\"\u001b[39m)\n\u001b[1;32m--> 141\u001b[0m     \u001b[38;5;28;01mraise\u001b[39;00m e \u001b[38;5;28;01mfrom\u001b[39;00m \u001b[38;5;21;01me\u001b[39;00m\n\u001b[0;32m    142\u001b[0m \u001b[38;5;28;01mexcept\u001b[39;00m grpc\u001b[38;5;241m.\u001b[39mFutureTimeoutError \u001b[38;5;28;01mas\u001b[39;00m e:\n\u001b[0;32m    143\u001b[0m     record_dict[\u001b[38;5;124m\"\u001b[39m\u001b[38;5;124mgRPC timeout\u001b[39m\u001b[38;5;124m\"\u001b[39m] \u001b[38;5;241m=\u001b[39m \u001b[38;5;28mstr\u001b[39m(datetime\u001b[38;5;241m.\u001b[39mdatetime\u001b[38;5;241m.\u001b[39mnow())\n",
      "File \u001b[1;32m~\\miniconda3\\envs\\chatbot\\Lib\\site-packages\\pymilvus\\decorators.py:137\u001b[0m, in \u001b[0;36merror_handler.<locals>.wrapper.<locals>.handler\u001b[1;34m(*args, **kwargs)\u001b[0m\n\u001b[0;32m    135\u001b[0m \u001b[38;5;28;01mtry\u001b[39;00m:\n\u001b[0;32m    136\u001b[0m     record_dict[\u001b[38;5;124m\"\u001b[39m\u001b[38;5;124mRPC start\u001b[39m\u001b[38;5;124m\"\u001b[39m] \u001b[38;5;241m=\u001b[39m \u001b[38;5;28mstr\u001b[39m(datetime\u001b[38;5;241m.\u001b[39mdatetime\u001b[38;5;241m.\u001b[39mnow())\n\u001b[1;32m--> 137\u001b[0m     \u001b[38;5;28;01mreturn\u001b[39;00m \u001b[43mfunc\u001b[49m\u001b[43m(\u001b[49m\u001b[38;5;241;43m*\u001b[39;49m\u001b[43margs\u001b[49m\u001b[43m,\u001b[49m\u001b[43m \u001b[49m\u001b[38;5;241;43m*\u001b[39;49m\u001b[38;5;241;43m*\u001b[39;49m\u001b[43mkwargs\u001b[49m\u001b[43m)\u001b[49m\n\u001b[0;32m    138\u001b[0m \u001b[38;5;28;01mexcept\u001b[39;00m MilvusException \u001b[38;5;28;01mas\u001b[39;00m e:\n\u001b[0;32m    139\u001b[0m     record_dict[\u001b[38;5;124m\"\u001b[39m\u001b[38;5;124mRPC error\u001b[39m\u001b[38;5;124m\"\u001b[39m] \u001b[38;5;241m=\u001b[39m \u001b[38;5;28mstr\u001b[39m(datetime\u001b[38;5;241m.\u001b[39mdatetime\u001b[38;5;241m.\u001b[39mnow())\n",
      "File \u001b[1;32m~\\miniconda3\\envs\\chatbot\\Lib\\site-packages\\pymilvus\\decorators.py:176\u001b[0m, in \u001b[0;36mtracing_request.<locals>.wrapper.<locals>.handler\u001b[1;34m(self, *args, **kwargs)\u001b[0m\n\u001b[0;32m    174\u001b[0m \u001b[38;5;28;01mif\u001b[39;00m req_id:\n\u001b[0;32m    175\u001b[0m     \u001b[38;5;28mself\u001b[39m\u001b[38;5;241m.\u001b[39mset_onetime_request_id(req_id)\n\u001b[1;32m--> 176\u001b[0m \u001b[38;5;28;01mreturn\u001b[39;00m \u001b[43mfunc\u001b[49m\u001b[43m(\u001b[49m\u001b[38;5;28;43mself\u001b[39;49m\u001b[43m,\u001b[49m\u001b[43m \u001b[49m\u001b[38;5;241;43m*\u001b[39;49m\u001b[43margs\u001b[49m\u001b[43m,\u001b[49m\u001b[43m \u001b[49m\u001b[38;5;241;43m*\u001b[39;49m\u001b[38;5;241;43m*\u001b[39;49m\u001b[43mkwargs\u001b[49m\u001b[43m)\u001b[49m\n",
      "File \u001b[1;32m~\\miniconda3\\envs\\chatbot\\Lib\\site-packages\\pymilvus\\decorators.py:116\u001b[0m, in \u001b[0;36mretry_on_rpc_failure.<locals>.wrapper.<locals>.handler\u001b[1;34m(*args, **kwargs)\u001b[0m\n\u001b[0;32m    114\u001b[0m         back_off \u001b[38;5;241m=\u001b[39m \u001b[38;5;28mmin\u001b[39m(back_off \u001b[38;5;241m*\u001b[39m back_off_multiplier, max_back_off)\n\u001b[0;32m    115\u001b[0m     \u001b[38;5;28;01melse\u001b[39;00m:\n\u001b[1;32m--> 116\u001b[0m         \u001b[38;5;28;01mraise\u001b[39;00m e \u001b[38;5;28;01mfrom\u001b[39;00m \u001b[38;5;21;01me\u001b[39;00m\n\u001b[0;32m    117\u001b[0m \u001b[38;5;28;01mexcept\u001b[39;00m \u001b[38;5;167;01mException\u001b[39;00m \u001b[38;5;28;01mas\u001b[39;00m e:\n\u001b[0;32m    118\u001b[0m     \u001b[38;5;28;01mraise\u001b[39;00m e \u001b[38;5;28;01mfrom\u001b[39;00m \u001b[38;5;21;01me\u001b[39;00m\n",
      "File \u001b[1;32m~\\miniconda3\\envs\\chatbot\\Lib\\site-packages\\pymilvus\\decorators.py:86\u001b[0m, in \u001b[0;36mretry_on_rpc_failure.<locals>.wrapper.<locals>.handler\u001b[1;34m(*args, **kwargs)\u001b[0m\n\u001b[0;32m     84\u001b[0m \u001b[38;5;28;01mwhile\u001b[39;00m \u001b[38;5;28;01mTrue\u001b[39;00m:\n\u001b[0;32m     85\u001b[0m     \u001b[38;5;28;01mtry\u001b[39;00m:\n\u001b[1;32m---> 86\u001b[0m         \u001b[38;5;28;01mreturn\u001b[39;00m \u001b[43mfunc\u001b[49m\u001b[43m(\u001b[49m\u001b[38;5;241;43m*\u001b[39;49m\u001b[43margs\u001b[49m\u001b[43m,\u001b[49m\u001b[43m \u001b[49m\u001b[38;5;241;43m*\u001b[39;49m\u001b[38;5;241;43m*\u001b[39;49m\u001b[43mkwargs\u001b[49m\u001b[43m)\u001b[49m\n\u001b[0;32m     87\u001b[0m     \u001b[38;5;28;01mexcept\u001b[39;00m grpc\u001b[38;5;241m.\u001b[39mRpcError \u001b[38;5;28;01mas\u001b[39;00m e:\n\u001b[0;32m     88\u001b[0m         \u001b[38;5;66;03m# Do not retry on these codes\u001b[39;00m\n\u001b[0;32m     89\u001b[0m         \u001b[38;5;28;01mif\u001b[39;00m e\u001b[38;5;241m.\u001b[39mcode() \u001b[38;5;129;01min\u001b[39;00m IGNORE_RETRY_CODES:\n",
      "File \u001b[1;32m~\\miniconda3\\envs\\chatbot\\Lib\\site-packages\\pymilvus\\client\\grpc_handler.py:959\u001b[0m, in \u001b[0;36mGrpcHandler.create_index\u001b[1;34m(self, collection_name, field_name, params, timeout, **kwargs)\u001b[0m\n\u001b[0;32m    956\u001b[0m         \u001b[38;5;28;01mbreak\u001b[39;00m\n\u001b[0;32m    958\u001b[0m \u001b[38;5;28;01mif\u001b[39;00m \u001b[38;5;129;01mnot\u001b[39;00m valid_field:\n\u001b[1;32m--> 959\u001b[0m     \u001b[38;5;28;01mraise\u001b[39;00m MilvusException(message\u001b[38;5;241m=\u001b[39m\u001b[38;5;124mf\u001b[39m\u001b[38;5;124m\"\u001b[39m\u001b[38;5;124mcannot create index on non-existed field: \u001b[39m\u001b[38;5;132;01m{\u001b[39;00mfield_name\u001b[38;5;132;01m}\u001b[39;00m\u001b[38;5;124m\"\u001b[39m)\n\u001b[0;32m    961\u001b[0m \u001b[38;5;66;03m# sync flush\u001b[39;00m\n\u001b[0;32m    962\u001b[0m _async \u001b[38;5;241m=\u001b[39m kwargs\u001b[38;5;241m.\u001b[39mget(\u001b[38;5;124m\"\u001b[39m\u001b[38;5;124m_async\u001b[39m\u001b[38;5;124m\"\u001b[39m, \u001b[38;5;28;01mFalse\u001b[39;00m)\n",
      "\u001b[1;31mMilvusException\u001b[0m: <MilvusException: (code=1, message=cannot create index on non-existed field: vector)>"
     ]
    }
   ],
   "source": [
    "from langchain.vectorstores import Milvus\n",
    "from langchain.embeddings import OpenAIEmbeddings\n",
    "\n",
    "# Konfigurasi koneksi ke Milvus\n",
    "milvus_connection_args = {\n",
    "    \"host\": \"192.168.30.222\",  # Ganti dengan host Milvus jika berbeda\n",
    "    \"port\": \"19530\"       # Port default Milvus\n",
    "}\n",
    "\n",
    "print(f\"Connected to Milvus collection: {collection_name}\")\n",
    "\n",
    "# Inisialisasi vector store menggunakan koleksi yang sudah ada\n",
    "vector_store = Milvus(\n",
    "    embedding_function=None,  # Tidak diperlukan karena sudah ada embedding\n",
    "    collection_name=collection_name,\n",
    "    connection_args=milvus_connection_args,\n",
    ")\n"
   ]
  },
  {
   "cell_type": "code",
   "execution_count": 29,
   "id": "a3537c7f-bde6-4b71-b7b1-5cd4dba88352",
   "metadata": {},
   "outputs": [],
   "source": [
    "# from langchain.vectorstores import Milvus\n",
    "# from langchain.embeddings import OpenAIEmbeddings\n",
    "\n",
    "# # Konfigurasi koneksi ke Milvus\n",
    "# milvus_connection_args = {\n",
    "#     \"host\": \"192.168.30.222\",  # Host Milvus\n",
    "#     \"port\": \"19530\"       # Port default Milvus\n",
    "# }\n",
    "\n",
    "# # Gunakan Milvus dan sesuaikan dengan nama koleksi Anda\n",
    "# vector_store = Milvus(\n",
    "#     embedding_function=None,  # Tidak diperlukan karena embeddings sudah dibuat\n",
    "#     collection_name=\"chatbot_embeddings\",\n",
    "#     connection_args=milvus_connection_args,\n",
    "# )\n",
    "\n",
    "# print(f\"Connected to Milvus collection: chatbot_embeddings\")\n"
   ]
  }
 ],
 "metadata": {
  "kernelspec": {
   "display_name": "Python 3 (ipykernel)",
   "language": "python",
   "name": "python3"
  },
  "language_info": {
   "codemirror_mode": {
    "name": "ipython",
    "version": 3
   },
   "file_extension": ".py",
   "mimetype": "text/x-python",
   "name": "python",
   "nbconvert_exporter": "python",
   "pygments_lexer": "ipython3",
   "version": "3.11.10"
  }
 },
 "nbformat": 4,
 "nbformat_minor": 5
}
